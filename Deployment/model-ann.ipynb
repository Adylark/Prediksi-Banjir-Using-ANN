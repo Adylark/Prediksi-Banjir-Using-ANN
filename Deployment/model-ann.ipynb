{
  "cells": [
    {
      "cell_type": "code",
      "execution_count": 1,
      "metadata": {
        "id": "mqT5qM-HGjT-"
      },
      "outputs": [
        {
          "ename": "ModuleNotFoundError",
          "evalue": "No module named 'pandas'",
          "output_type": "error",
          "traceback": [
            "\u001b[1;31m---------------------------------------------------------------------------\u001b[0m",
            "\u001b[1;31mModuleNotFoundError\u001b[0m                       Traceback (most recent call last)",
            "Cell \u001b[1;32mIn[1], line 2\u001b[0m\n\u001b[0;32m      1\u001b[0m \u001b[38;5;28;01mimport\u001b[39;00m \u001b[38;5;21;01mnumpy\u001b[39;00m \u001b[38;5;28;01mas\u001b[39;00m \u001b[38;5;21;01mnp\u001b[39;00m\n\u001b[1;32m----> 2\u001b[0m \u001b[38;5;28;01mimport\u001b[39;00m \u001b[38;5;21;01mpandas\u001b[39;00m \u001b[38;5;28;01mas\u001b[39;00m \u001b[38;5;21;01mpd\u001b[39;00m\n\u001b[0;32m      3\u001b[0m \u001b[38;5;28;01mimport\u001b[39;00m \u001b[38;5;21;01mtensorflow\u001b[39;00m \u001b[38;5;28;01mas\u001b[39;00m \u001b[38;5;21;01mtf\u001b[39;00m\n\u001b[0;32m      4\u001b[0m \u001b[38;5;28;01mfrom\u001b[39;00m \u001b[38;5;21;01msklearn\u001b[39;00m\u001b[38;5;21;01m.\u001b[39;00m\u001b[38;5;21;01mmodel_selection\u001b[39;00m \u001b[38;5;28;01mimport\u001b[39;00m train_test_split\n",
            "\u001b[1;31mModuleNotFoundError\u001b[0m: No module named 'pandas'"
          ]
        }
      ],
      "source": [
        "import numpy as np\n",
        "import pandas as pd\n",
        "import tensorflow as tf\n",
        "from sklearn.model_selection import train_test_split\n",
        "from sklearn.preprocessing import StandardScaler\n",
        "from sklearn.metrics import classification_report, confusion_matrix\n"
      ]
    },
    {
      "cell_type": "code",
      "execution_count": 5,
      "metadata": {
        "colab": {
          "base_uri": "https://localhost:8080/"
        },
        "id": "xsGb2OYyGxPb",
        "outputId": "6bf1e47f-5711-4f8d-e73c-29abe36fd3fe"
      },
      "outputs": [
        {
          "name": "stdout",
          "output_type": "stream",
          "text": [
            "     Tn    Tx  Tavg  RH_avg    RR   ss  ff_x  ddd_x  ff_avg  flood\n",
            "0  26.0  34.8  28.6    81.0   NaN  5.8   5.0  280.0     2.0      0\n",
            "1  25.6  33.2  27.0    88.0   1.6  8.7   4.0  290.0     2.0      1\n",
            "2  24.4  34.9  28.1    80.0  33.8  5.4   4.0  280.0     2.0      1\n",
            "3  24.8  33.6  29.2    81.0   NaN  6.6   3.0  200.0     1.0      0\n",
            "4  25.8  33.6  26.7    91.0   NaN  3.2   3.0  180.0     1.0      0\n"
          ]
        }
      ],
      "source": [
        "# Load dataset\n",
        "data = pd.read_csv('data_finish.csv', delimiter = ',')\n",
        "\n",
        "# Drop unnecessary columns\n",
        "data.drop(['ddd_car', 'station_id', 'station_name', 'region_name', 'date'], axis=1, inplace=True)\n",
        "\n",
        "# Display the first few rows of the dataset\n",
        "print(data.head())"
      ]
    },
    {
      "cell_type": "code",
      "execution_count": 6,
      "metadata": {
        "colab": {
          "base_uri": "https://localhost:8080/"
        },
        "id": "VDs13qN_HJ8Y",
        "outputId": "175e3a59-f330-43f3-b6bc-1d5beeeec9d9"
      },
      "outputs": [
        {
          "name": "stdout",
          "output_type": "stream",
          "text": [
            "Tn        0\n",
            "Tx        0\n",
            "Tavg      0\n",
            "RH_avg    0\n",
            "RR        0\n",
            "ss        0\n",
            "ff_x      0\n",
            "ddd_x     0\n",
            "ff_avg    0\n",
            "flood     0\n",
            "dtype: int64\n"
          ]
        }
      ],
      "source": [
        "# Menggantikan nilai NaN dengan rata-rata kolom\n",
        "data.fillna(data.mean(), inplace=True)\n",
        "\n",
        "print(data.isnull().sum())"
      ]
    },
    {
      "cell_type": "code",
      "execution_count": 7,
      "metadata": {
        "id": "v-cSy_vlHOu8"
      },
      "outputs": [],
      "source": [
        "X = data[['Tn', 'Tx', 'Tavg', 'RH_avg', 'RR', 'ss', 'ff_x']]\n",
        "y = data['flood']"
      ]
    },
    {
      "cell_type": "code",
      "execution_count": 8,
      "metadata": {
        "id": "VuHaieHaHU6r"
      },
      "outputs": [],
      "source": [
        "scaler = StandardScaler()\n",
        "X_scaled = scaler.fit_transform(X)"
      ]
    },
    {
      "cell_type": "code",
      "execution_count": 9,
      "metadata": {
        "id": "46XiFhhSHW8w"
      },
      "outputs": [],
      "source": [
        "# Membagi dataset menjadi data latih dan data uji\n",
        "X_train, X_test, y_train, y_test = train_test_split(X_scaled, y, test_size=0.2, random_state=42)"
      ]
    },
    {
      "cell_type": "code",
      "execution_count": 10,
      "metadata": {
        "id": "jrV4rSHQHZgq"
      },
      "outputs": [],
      "source": [
        "model = tf.keras.Sequential([\n",
        "    tf.keras.layers.Dense(128, activation='relu', input_shape=(X_train.shape[1],)),\n",
        "    tf.keras.layers.Dropout(0.5),\n",
        "    tf.keras.layers.Dense(64, activation='relu'),\n",
        "    tf.keras.layers.Dropout(0.5),\n",
        "    tf.keras.layers.Dense(1, activation='sigmoid')\n",
        "])"
      ]
    },
    {
      "cell_type": "code",
      "execution_count": 11,
      "metadata": {
        "id": "5paucjjKHcFO"
      },
      "outputs": [],
      "source": [
        "# Menyusun model\n",
        "model.compile(optimizer='adam',\n",
        "              loss='binary_crossentropy',\n",
        "              metrics=['accuracy'])"
      ]
    },
    {
      "cell_type": "code",
      "execution_count": 12,
      "metadata": {
        "colab": {
          "base_uri": "https://localhost:8080/"
        },
        "id": "VJbFx8vgHeR3",
        "outputId": "11c9f1ed-3e7c-4b82-b1b9-76c54b09641c"
      },
      "outputs": [
        {
          "name": "stdout",
          "output_type": "stream",
          "text": [
            "Epoch 1/50\n",
            "64/64 [==============================] - 1s 16ms/step - loss: 0.4710 - accuracy: 0.8621 - val_loss: 0.2303 - val_accuracy: 0.9257\n",
            "Epoch 2/50\n",
            "64/64 [==============================] - 0s 2ms/step - loss: 0.2663 - accuracy: 0.9203 - val_loss: 0.2108 - val_accuracy: 0.9257\n",
            "Epoch 3/50\n",
            "64/64 [==============================] - 0s 2ms/step - loss: 0.2273 - accuracy: 0.9307 - val_loss: 0.2073 - val_accuracy: 0.9267\n",
            "Epoch 4/50\n",
            "64/64 [==============================] - 0s 2ms/step - loss: 0.2356 - accuracy: 0.9272 - val_loss: 0.2066 - val_accuracy: 0.9267\n",
            "Epoch 5/50\n",
            "64/64 [==============================] - 0s 2ms/step - loss: 0.2175 - accuracy: 0.9379 - val_loss: 0.2061 - val_accuracy: 0.9277\n",
            "Epoch 6/50\n",
            "64/64 [==============================] - 0s 2ms/step - loss: 0.2123 - accuracy: 0.9289 - val_loss: 0.2066 - val_accuracy: 0.9277\n",
            "Epoch 7/50\n",
            "64/64 [==============================] - 0s 2ms/step - loss: 0.1986 - accuracy: 0.9337 - val_loss: 0.2079 - val_accuracy: 0.9277\n",
            "Epoch 8/50\n",
            "64/64 [==============================] - 0s 2ms/step - loss: 0.2233 - accuracy: 0.9259 - val_loss: 0.2081 - val_accuracy: 0.9267\n",
            "Epoch 9/50\n",
            "64/64 [==============================] - 0s 2ms/step - loss: 0.2214 - accuracy: 0.9244 - val_loss: 0.2075 - val_accuracy: 0.9267\n",
            "Epoch 10/50\n",
            "64/64 [==============================] - 0s 2ms/step - loss: 0.2271 - accuracy: 0.9251 - val_loss: 0.2082 - val_accuracy: 0.9267\n",
            "Epoch 11/50\n",
            "64/64 [==============================] - 0s 2ms/step - loss: 0.1984 - accuracy: 0.9313 - val_loss: 0.2082 - val_accuracy: 0.9287\n",
            "Epoch 12/50\n",
            "64/64 [==============================] - 0s 2ms/step - loss: 0.2159 - accuracy: 0.9222 - val_loss: 0.2082 - val_accuracy: 0.9277\n",
            "Epoch 13/50\n",
            "64/64 [==============================] - 0s 2ms/step - loss: 0.2102 - accuracy: 0.9263 - val_loss: 0.2085 - val_accuracy: 0.9277\n",
            "Epoch 14/50\n",
            "64/64 [==============================] - 0s 2ms/step - loss: 0.2213 - accuracy: 0.9278 - val_loss: 0.2088 - val_accuracy: 0.9287\n",
            "Epoch 15/50\n",
            "64/64 [==============================] - 0s 2ms/step - loss: 0.2056 - accuracy: 0.9267 - val_loss: 0.2085 - val_accuracy: 0.9267\n",
            "Epoch 16/50\n",
            "64/64 [==============================] - 0s 2ms/step - loss: 0.2172 - accuracy: 0.9246 - val_loss: 0.2084 - val_accuracy: 0.9257\n",
            "Epoch 17/50\n",
            "64/64 [==============================] - 0s 2ms/step - loss: 0.2162 - accuracy: 0.9223 - val_loss: 0.2094 - val_accuracy: 0.9287\n",
            "Epoch 18/50\n",
            "64/64 [==============================] - 0s 2ms/step - loss: 0.2144 - accuracy: 0.9247 - val_loss: 0.2097 - val_accuracy: 0.9277\n",
            "Epoch 19/50\n",
            "64/64 [==============================] - 0s 2ms/step - loss: 0.2031 - accuracy: 0.9312 - val_loss: 0.2088 - val_accuracy: 0.9267\n",
            "Epoch 20/50\n",
            "64/64 [==============================] - 0s 2ms/step - loss: 0.1913 - accuracy: 0.9335 - val_loss: 0.2094 - val_accuracy: 0.9267\n",
            "Epoch 21/50\n",
            "64/64 [==============================] - 0s 2ms/step - loss: 0.1972 - accuracy: 0.9316 - val_loss: 0.2101 - val_accuracy: 0.9287\n",
            "Epoch 22/50\n",
            "64/64 [==============================] - 0s 2ms/step - loss: 0.1983 - accuracy: 0.9366 - val_loss: 0.2093 - val_accuracy: 0.9267\n",
            "Epoch 23/50\n",
            "64/64 [==============================] - 0s 2ms/step - loss: 0.2061 - accuracy: 0.9258 - val_loss: 0.2095 - val_accuracy: 0.9287\n",
            "Epoch 24/50\n",
            "64/64 [==============================] - 0s 2ms/step - loss: 0.1985 - accuracy: 0.9326 - val_loss: 0.2094 - val_accuracy: 0.9277\n",
            "Epoch 25/50\n",
            "64/64 [==============================] - 0s 2ms/step - loss: 0.2048 - accuracy: 0.9284 - val_loss: 0.2096 - val_accuracy: 0.9277\n",
            "Epoch 26/50\n",
            "64/64 [==============================] - 0s 2ms/step - loss: 0.1992 - accuracy: 0.9327 - val_loss: 0.2094 - val_accuracy: 0.9277\n",
            "Epoch 27/50\n",
            "64/64 [==============================] - 0s 2ms/step - loss: 0.2172 - accuracy: 0.9285 - val_loss: 0.2099 - val_accuracy: 0.9277\n",
            "Epoch 28/50\n",
            "64/64 [==============================] - 0s 2ms/step - loss: 0.2116 - accuracy: 0.9236 - val_loss: 0.2097 - val_accuracy: 0.9267\n",
            "Epoch 29/50\n",
            "64/64 [==============================] - 0s 2ms/step - loss: 0.1911 - accuracy: 0.9359 - val_loss: 0.2102 - val_accuracy: 0.9267\n",
            "Epoch 30/50\n",
            "64/64 [==============================] - 0s 2ms/step - loss: 0.2036 - accuracy: 0.9286 - val_loss: 0.2109 - val_accuracy: 0.9267\n",
            "Epoch 31/50\n",
            "64/64 [==============================] - 0s 2ms/step - loss: 0.2091 - accuracy: 0.9304 - val_loss: 0.2123 - val_accuracy: 0.9267\n",
            "Epoch 32/50\n",
            "64/64 [==============================] - 0s 2ms/step - loss: 0.2239 - accuracy: 0.9222 - val_loss: 0.2106 - val_accuracy: 0.9267\n",
            "Epoch 33/50\n",
            "64/64 [==============================] - 0s 2ms/step - loss: 0.2017 - accuracy: 0.9344 - val_loss: 0.2104 - val_accuracy: 0.9267\n",
            "Epoch 34/50\n",
            "64/64 [==============================] - 0s 2ms/step - loss: 0.2148 - accuracy: 0.9234 - val_loss: 0.2099 - val_accuracy: 0.9267\n",
            "Epoch 35/50\n",
            "64/64 [==============================] - 0s 2ms/step - loss: 0.2033 - accuracy: 0.9312 - val_loss: 0.2108 - val_accuracy: 0.9267\n",
            "Epoch 36/50\n",
            "64/64 [==============================] - 0s 2ms/step - loss: 0.2088 - accuracy: 0.9240 - val_loss: 0.2120 - val_accuracy: 0.9267\n",
            "Epoch 37/50\n",
            "64/64 [==============================] - 0s 2ms/step - loss: 0.1926 - accuracy: 0.9367 - val_loss: 0.2125 - val_accuracy: 0.9257\n",
            "Epoch 38/50\n",
            "64/64 [==============================] - 0s 2ms/step - loss: 0.2089 - accuracy: 0.9290 - val_loss: 0.2143 - val_accuracy: 0.9267\n",
            "Epoch 39/50\n",
            "64/64 [==============================] - 0s 2ms/step - loss: 0.1992 - accuracy: 0.9296 - val_loss: 0.2161 - val_accuracy: 0.9257\n",
            "Epoch 40/50\n",
            "64/64 [==============================] - 0s 2ms/step - loss: 0.1986 - accuracy: 0.9306 - val_loss: 0.2117 - val_accuracy: 0.9257\n",
            "Epoch 41/50\n",
            "64/64 [==============================] - 0s 2ms/step - loss: 0.2000 - accuracy: 0.9299 - val_loss: 0.2109 - val_accuracy: 0.9267\n",
            "Epoch 42/50\n",
            "64/64 [==============================] - 0s 2ms/step - loss: 0.2055 - accuracy: 0.9244 - val_loss: 0.2111 - val_accuracy: 0.9267\n",
            "Epoch 43/50\n",
            "64/64 [==============================] - 0s 2ms/step - loss: 0.1860 - accuracy: 0.9355 - val_loss: 0.2108 - val_accuracy: 0.9267\n",
            "Epoch 44/50\n",
            "64/64 [==============================] - 0s 2ms/step - loss: 0.2022 - accuracy: 0.9313 - val_loss: 0.2105 - val_accuracy: 0.9287\n",
            "Epoch 45/50\n",
            "64/64 [==============================] - 0s 2ms/step - loss: 0.2056 - accuracy: 0.9285 - val_loss: 0.2109 - val_accuracy: 0.9287\n",
            "Epoch 46/50\n",
            "64/64 [==============================] - 0s 2ms/step - loss: 0.1918 - accuracy: 0.9331 - val_loss: 0.2105 - val_accuracy: 0.9267\n",
            "Epoch 47/50\n",
            "64/64 [==============================] - 0s 2ms/step - loss: 0.2169 - accuracy: 0.9215 - val_loss: 0.2104 - val_accuracy: 0.9287\n",
            "Epoch 48/50\n",
            "64/64 [==============================] - 0s 2ms/step - loss: 0.1907 - accuracy: 0.9340 - val_loss: 0.2100 - val_accuracy: 0.9277\n",
            "Epoch 49/50\n",
            "64/64 [==============================] - 0s 2ms/step - loss: 0.1959 - accuracy: 0.9312 - val_loss: 0.2113 - val_accuracy: 0.9267\n",
            "Epoch 50/50\n",
            "64/64 [==============================] - 0s 2ms/step - loss: 0.2060 - accuracy: 0.9286 - val_loss: 0.2149 - val_accuracy: 0.9267\n"
          ]
        }
      ],
      "source": [
        "# Melatih model\n",
        "history = model.fit(X_train, y_train, epochs=50, batch_size=64, validation_split=0.2)"
      ]
    },
    {
      "cell_type": "code",
      "execution_count": 13,
      "metadata": {
        "colab": {
          "base_uri": "https://localhost:8080/"
        },
        "id": "MaL2JKncHpMn",
        "outputId": "c92f5eb0-cf25-4324-a966-b5ce61c9b565"
      },
      "outputs": [
        {
          "name": "stdout",
          "output_type": "stream",
          "text": [
            "40/40 [==============================] - 0s 564us/step - loss: 0.2557 - accuracy: 0.9120\n",
            "Test Accuracy: 0.91204434633255\n"
          ]
        }
      ],
      "source": [
        "# Evaluasi model pada data uji\n",
        "test_loss, test_accuracy = model.evaluate(X_test, y_test)\n",
        "print(f'Test Accuracy: {test_accuracy}')"
      ]
    },
    {
      "cell_type": "code",
      "execution_count": 14,
      "metadata": {
        "colab": {
          "base_uri": "https://localhost:8080/"
        },
        "id": "6RJ7rZWEHrqi",
        "outputId": "43f5da79-5014-4a25-8788-53815f86e08c"
      },
      "outputs": [],
      "source": [
        "# Membuat prediksi pada data uji\n",
        "y_pred_probs = model.predict(X_test)\n",
        "y_pred = (y_pred_probs > 0.5).astype(int)"
      ]
    },
    {
      "cell_type": "code",
      "execution_count": 15,
      "metadata": {
        "colab": {
          "base_uri": "https://localhost:8080/"
        },
        "id": "s2hsld60HuwJ",
        "outputId": "b99390b3-93a1-48e6-84c9-7f93f00b19df"
      },
      "outputs": [
        {
          "name": "stdout",
          "output_type": "stream",
          "text": [
            "Confusion Matrix:\n",
            "[[1149    5]\n",
            " [ 106    2]]\n",
            "Classification Report:\n",
            "              precision    recall  f1-score   support\n",
            "\n",
            "           0       0.92      1.00      0.95      1154\n",
            "           1       0.29      0.02      0.03       108\n",
            "\n",
            "    accuracy                           0.91      1262\n",
            "   macro avg       0.60      0.51      0.49      1262\n",
            "weighted avg       0.86      0.91      0.88      1262\n",
            "\n"
          ]
        }
      ],
      "source": [
        "# Menampilkan confusion matrix\n",
        "print(\"Confusion Matrix:\")\n",
        "print(confusion_matrix(y_test, y_pred))\n",
        "\n",
        "# Menampilkan laporan klasifikasi\n",
        "print(\"Classification Report:\")\n",
        "print(classification_report(y_test, y_pred))"
      ]
    },
    {
      "cell_type": "code",
      "execution_count": 16,
      "metadata": {},
      "outputs": [],
      "source": [
        "# Simpan model setelah pelatihan\n",
        "model.save('flood_prediction_model.h5')"
      ]
    },
    {
      "cell_type": "code",
      "execution_count": 18,
      "metadata": {},
      "outputs": [
        {
          "data": {
            "text/plain": [
              "['scaler.pkl']"
            ]
          },
          "execution_count": 18,
          "metadata": {},
          "output_type": "execute_result"
        }
      ],
      "source": [
        "import joblib\n",
        "\n",
        "# Simpan scaler\n",
        "joblib.dump(scaler, 'scaler.pkl')"
      ]
    }
  ],
  "metadata": {
    "colab": {
      "provenance": []
    },
    "kernelspec": {
      "display_name": "Python 3",
      "name": "python3"
    },
    "language_info": {
      "codemirror_mode": {
        "name": "ipython",
        "version": 3
      },
      "file_extension": ".py",
      "mimetype": "text/x-python",
      "name": "python",
      "nbconvert_exporter": "python",
      "pygments_lexer": "ipython3",
      "version": "3.10.2"
    }
  },
  "nbformat": 4,
  "nbformat_minor": 0
}
